{
 "cells": [
  {
   "cell_type": "code",
   "execution_count": 2,
   "metadata": {},
   "outputs": [],
   "source": [
    "from osgeo import ogr\n",
    "import os\n",
    "import json\n",
    "from shutil import copyfile"
   ]
  },
  {
   "cell_type": "code",
   "execution_count": null,
   "metadata": {},
   "outputs": [],
   "source": [
    "# this script coverts the zips polygons into points, the centroids of those polys"
   ]
  },
  {
   "cell_type": "code",
   "execution_count": 3,
   "metadata": {},
   "outputs": [],
   "source": [
    "# consts\n",
    "driver = ogr.GetDriverByName('GeoJSON')\n",
    "diry = 'data'\n",
    "sub_diry = 'zips'\n",
    "orig_fn = 'zips_with_estimates.json' # change this\n",
    "copy_fn = 'zips_centroids.json'\n",
    "orig_path = os.path.join(diry, sub_diry, orig_fn)\n",
    "copy_path = os.path.join(diry, sub_diry, copy_fn)\n",
    "copyfile(orig_path, copy_path) # copying so it's easy to redo this\n",
    "\n",
    "zipsSource = driver.Open(copy_path, 1) # 0 means read-only. 1 means writeable.\n",
    "zip_lyr = zipsSource.GetLayer()"
   ]
  },
  {
   "cell_type": "code",
   "execution_count": 4,
   "metadata": {},
   "outputs": [],
   "source": [
    "\n",
    "\n",
    "# loop thru zips calculate centroid (creating a point geometry obj)\n",
    "# reset that zip feature's geometry to be that point obj\n",
    "# that's it\n",
    "for feat in zip_lyr: \n",
    "    geom = feat.GetGeometryRef()\n",
    "    # print(geom.ExportToWkt() ) # can look at poly geometry\n",
    "    centroid = geom.Centroid()\n",
    "    # print(centroid.ExportToWkt() ) # can look at point geometry\n",
    "    feat.SetGeometry(centroid ) \n",
    "    zip_lyr.SetFeature(feat) \n",
    "zip_lyr.ResetReading()"
   ]
  },
  {
   "cell_type": "code",
   "execution_count": 5,
   "metadata": {},
   "outputs": [],
   "source": [
    "# this saves the thing I made\n",
    "zipsSource.Destroy()\n",
    "zipsSource = None \n",
    "# should have same name as copy fn from start"
   ]
  },
  {
   "cell_type": "code",
   "execution_count": null,
   "metadata": {},
   "outputs": [],
   "source": []
  },
  {
   "cell_type": "code",
   "execution_count": null,
   "metadata": {},
   "outputs": [],
   "source": []
  }
 ],
 "metadata": {
  "kernelspec": {
   "display_name": "Python 3",
   "language": "python",
   "name": "python3"
  },
  "language_info": {
   "codemirror_mode": {
    "name": "ipython",
    "version": 3
   },
   "file_extension": ".py",
   "mimetype": "text/x-python",
   "name": "python",
   "nbconvert_exporter": "python",
   "pygments_lexer": "ipython3",
   "version": "3.7.3"
  }
 },
 "nbformat": 4,
 "nbformat_minor": 2
}
